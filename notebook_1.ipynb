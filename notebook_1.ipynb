{
  "nbformat": 4,
  "nbformat_minor": 0,
  "metadata": {
    "colab": {
      "provenance": [],
      "authorship_tag": "ABX9TyORy4unqbxYrKVPVADwcyUL",
      "include_colab_link": true
    },
    "kernelspec": {
      "name": "python3",
      "display_name": "Python 3"
    },
    "language_info": {
      "name": "python"
    }
  },
  "cells": [
    {
      "cell_type": "markdown",
      "metadata": {
        "id": "view-in-github",
        "colab_type": "text"
      },
      "source": [
        "<a href=\"https://colab.research.google.com/github/indugvenkit/coursera-angular-js/blob/master/notebook_1.ipynb\" target=\"_parent\"><img src=\"https://colab.research.google.com/assets/colab-badge.svg\" alt=\"Open In Colab\"/></a>"
      ]
    },
    {
      "cell_type": "markdown",
      "source": [
        "Exercise 3 (decompress_vector_test: 2 points). Complete the function decompress_vector(d) that takes a compressed vector d, which is a dictionary with keys for the indices (inds) and values (vals), and returns the corresponding full vector. For any repeated index, the values should be summed.\n",
        "\n",
        "The function should accept an optional parameter, n, that specifies the length of the full vector. You may assume this length is at least max(d['inds'])+1."
      ],
      "metadata": {
        "id": "uc5ExxARhenC"
      }
    },
    {
      "cell_type": "code",
      "execution_count": 1,
      "metadata": {
        "id": "TfvOpOHNgbeV"
      },
      "outputs": [],
      "source": [
        "def decompress_vector(d, n=None):\n",
        "    # Checks the input\n",
        "    assert type(d) is dict and 'inds' in d and 'vals' in d, \"Not a dictionary or missing keys\"\n",
        "    assert type(d['inds']) is list and type(d['vals']) is list, \"Not a list\"\n",
        "    assert len(d['inds']) == len(d['vals']), \"Length mismatch\"\n",
        "\n",
        "    # Determine length of the full vector\n",
        "    i_max = max(d['inds']) if d['inds'] else -1\n",
        "    if n is None:\n",
        "        n = i_max+1\n",
        "    else:\n",
        "        assert n > i_max, \"Bad value for full vector length\"\n",
        "\n",
        "    ###\n",
        "    ### YOUR CODE HERE\n",
        "    ###"
      ]
    }
  ]
}